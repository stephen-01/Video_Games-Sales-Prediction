{
 "cells": [
  {
   "cell_type": "code",
   "execution_count": 3,
   "metadata": {},
   "outputs": [],
   "source": [
    "import numpy as np\n",
    "import pandas as pd\n",
    "import matplotlib.pyplot as plt\n",
    "import seaborn as sns\n",
    "import warnings\n",
    "from catboost import CatBoostRegressor\n",
    "from lightgbm import LGBMRegressor\n",
    "from xgboost import XGBRegressor\n",
    "from sklearn.model_selection import KFold\n",
    "from sklearn.metrics import mean_squared_error\n",
    "\n",
    "warnings.filterwarnings('ignore')\n",
    "%matplotlib inline\n",
    "pd.set_option('max_column', 1000)\n",
    "pd.set_option('max_rows', 1000)"
   ]
  },
  {
   "cell_type": "code",
   "execution_count": 4,
   "metadata": {},
   "outputs": [],
   "source": [
    "train = pd.read_csv('Train.csv')\n",
    "test = pd.read_csv('Test.csv')\n",
    "sample_sub = pd.read_csv('Sample_Submission.csv')"
   ]
  },
  {
   "cell_type": "code",
   "execution_count": 5,
   "metadata": {},
   "outputs": [
    {
     "data": {
      "text/html": [
       "<div>\n",
       "<style scoped>\n",
       "    .dataframe tbody tr th:only-of-type {\n",
       "        vertical-align: middle;\n",
       "    }\n",
       "\n",
       "    .dataframe tbody tr th {\n",
       "        vertical-align: top;\n",
       "    }\n",
       "\n",
       "    .dataframe thead th {\n",
       "        text-align: right;\n",
       "    }\n",
       "</style>\n",
       "<table border=\"1\" class=\"dataframe\">\n",
       "  <thead>\n",
       "    <tr style=\"text-align: right;\">\n",
       "      <th></th>\n",
       "      <th>SalesInMillions</th>\n",
       "    </tr>\n",
       "  </thead>\n",
       "  <tbody>\n",
       "    <tr>\n",
       "      <th>0</th>\n",
       "      <td>1.497533</td>\n",
       "    </tr>\n",
       "    <tr>\n",
       "      <th>1</th>\n",
       "      <td>2.368795</td>\n",
       "    </tr>\n",
       "    <tr>\n",
       "      <th>2</th>\n",
       "      <td>2.630505</td>\n",
       "    </tr>\n",
       "    <tr>\n",
       "      <th>3</th>\n",
       "      <td>2.506086</td>\n",
       "    </tr>\n",
       "    <tr>\n",
       "      <th>4</th>\n",
       "      <td>1.970574</td>\n",
       "    </tr>\n",
       "  </tbody>\n",
       "</table>\n",
       "</div>"
      ],
      "text/plain": [
       "   SalesInMillions\n",
       "0         1.497533\n",
       "1         2.368795\n",
       "2         2.630505\n",
       "3         2.506086\n",
       "4         1.970574"
      ]
     },
     "execution_count": 5,
     "metadata": {},
     "output_type": "execute_result"
    }
   ],
   "source": [
    "sample_sub.head()"
   ]
  },
  {
   "cell_type": "code",
   "execution_count": 7,
   "metadata": {},
   "outputs": [
    {
     "data": {
      "text/html": [
       "<div>\n",
       "<style scoped>\n",
       "    .dataframe tbody tr th:only-of-type {\n",
       "        vertical-align: middle;\n",
       "    }\n",
       "\n",
       "    .dataframe tbody tr th {\n",
       "        vertical-align: top;\n",
       "    }\n",
       "\n",
       "    .dataframe thead th {\n",
       "        text-align: right;\n",
       "    }\n",
       "</style>\n",
       "<table border=\"1\" class=\"dataframe\">\n",
       "  <thead>\n",
       "    <tr style=\"text-align: right;\">\n",
       "      <th></th>\n",
       "      <th>ID</th>\n",
       "      <th>CONSOLE</th>\n",
       "      <th>YEAR</th>\n",
       "      <th>CATEGORY</th>\n",
       "      <th>PUBLISHER</th>\n",
       "      <th>RATING</th>\n",
       "      <th>CRITICS_POINTS</th>\n",
       "      <th>USER_POINTS</th>\n",
       "      <th>SalesInMillions</th>\n",
       "    </tr>\n",
       "  </thead>\n",
       "  <tbody>\n",
       "    <tr>\n",
       "      <th>0</th>\n",
       "      <td>2860</td>\n",
       "      <td>ds</td>\n",
       "      <td>2008</td>\n",
       "      <td>role-playing</td>\n",
       "      <td>Nintendo</td>\n",
       "      <td>E</td>\n",
       "      <td>2.833333</td>\n",
       "      <td>0.303704</td>\n",
       "      <td>1.779257</td>\n",
       "    </tr>\n",
       "    <tr>\n",
       "      <th>1</th>\n",
       "      <td>731</td>\n",
       "      <td>wii</td>\n",
       "      <td>2012</td>\n",
       "      <td>simulation</td>\n",
       "      <td>Konami Digital Entertainment</td>\n",
       "      <td>E10+</td>\n",
       "      <td>13.200000</td>\n",
       "      <td>1.640000</td>\n",
       "      <td>0.215050</td>\n",
       "    </tr>\n",
       "    <tr>\n",
       "      <th>2</th>\n",
       "      <td>495</td>\n",
       "      <td>pc</td>\n",
       "      <td>2019</td>\n",
       "      <td>shooter</td>\n",
       "      <td>Activision</td>\n",
       "      <td>M</td>\n",
       "      <td>4.562500</td>\n",
       "      <td>0.006410</td>\n",
       "      <td>0.534402</td>\n",
       "    </tr>\n",
       "    <tr>\n",
       "      <th>3</th>\n",
       "      <td>2641</td>\n",
       "      <td>ps2</td>\n",
       "      <td>2002</td>\n",
       "      <td>sports</td>\n",
       "      <td>Electronic Arts</td>\n",
       "      <td>E</td>\n",
       "      <td>4.181818</td>\n",
       "      <td>0.326923</td>\n",
       "      <td>1.383964</td>\n",
       "    </tr>\n",
       "    <tr>\n",
       "      <th>4</th>\n",
       "      <td>811</td>\n",
       "      <td>ps3</td>\n",
       "      <td>2013</td>\n",
       "      <td>action</td>\n",
       "      <td>Activision</td>\n",
       "      <td>M</td>\n",
       "      <td>2.259259</td>\n",
       "      <td>0.032579</td>\n",
       "      <td>0.082671</td>\n",
       "    </tr>\n",
       "  </tbody>\n",
       "</table>\n",
       "</div>"
      ],
      "text/plain": [
       "     ID CONSOLE  YEAR      CATEGORY                     PUBLISHER RATING  \\\n",
       "0  2860      ds  2008  role-playing                      Nintendo      E   \n",
       "1   731     wii  2012    simulation  Konami Digital Entertainment   E10+   \n",
       "2   495      pc  2019       shooter                    Activision      M   \n",
       "3  2641     ps2  2002        sports               Electronic Arts      E   \n",
       "4   811     ps3  2013        action                    Activision      M   \n",
       "\n",
       "   CRITICS_POINTS  USER_POINTS  SalesInMillions  \n",
       "0        2.833333     0.303704         1.779257  \n",
       "1       13.200000     1.640000         0.215050  \n",
       "2        4.562500     0.006410         0.534402  \n",
       "3        4.181818     0.326923         1.383964  \n",
       "4        2.259259     0.032579         0.082671  "
      ]
     },
     "execution_count": 7,
     "metadata": {},
     "output_type": "execute_result"
    }
   ],
   "source": [
    "train.head()"
   ]
  },
  {
   "cell_type": "code",
   "execution_count": 8,
   "metadata": {},
   "outputs": [
    {
     "data": {
      "text/html": [
       "<div>\n",
       "<style scoped>\n",
       "    .dataframe tbody tr th:only-of-type {\n",
       "        vertical-align: middle;\n",
       "    }\n",
       "\n",
       "    .dataframe tbody tr th {\n",
       "        vertical-align: top;\n",
       "    }\n",
       "\n",
       "    .dataframe thead th {\n",
       "        text-align: right;\n",
       "    }\n",
       "</style>\n",
       "<table border=\"1\" class=\"dataframe\">\n",
       "  <thead>\n",
       "    <tr style=\"text-align: right;\">\n",
       "      <th></th>\n",
       "      <th>ID</th>\n",
       "      <th>CONSOLE</th>\n",
       "      <th>YEAR</th>\n",
       "      <th>CATEGORY</th>\n",
       "      <th>PUBLISHER</th>\n",
       "      <th>RATING</th>\n",
       "      <th>CRITICS_POINTS</th>\n",
       "      <th>USER_POINTS</th>\n",
       "    </tr>\n",
       "  </thead>\n",
       "  <tbody>\n",
       "    <tr>\n",
       "      <th>0</th>\n",
       "      <td>4310</td>\n",
       "      <td>ps2</td>\n",
       "      <td>2008</td>\n",
       "      <td>action</td>\n",
       "      <td>Tecmo Koei</td>\n",
       "      <td>T</td>\n",
       "      <td>3.928571</td>\n",
       "      <td>0.482353</td>\n",
       "    </tr>\n",
       "    <tr>\n",
       "      <th>1</th>\n",
       "      <td>4011</td>\n",
       "      <td>psp</td>\n",
       "      <td>2007</td>\n",
       "      <td>strategy</td>\n",
       "      <td>Atari</td>\n",
       "      <td>E10+</td>\n",
       "      <td>5.538462</td>\n",
       "      <td>0.071795</td>\n",
       "    </tr>\n",
       "    <tr>\n",
       "      <th>2</th>\n",
       "      <td>2185</td>\n",
       "      <td>ps2</td>\n",
       "      <td>2004</td>\n",
       "      <td>shooter</td>\n",
       "      <td>Electronic Arts</td>\n",
       "      <td>T</td>\n",
       "      <td>3.034483</td>\n",
       "      <td>0.062044</td>\n",
       "    </tr>\n",
       "    <tr>\n",
       "      <th>3</th>\n",
       "      <td>1644</td>\n",
       "      <td>x</td>\n",
       "      <td>2006</td>\n",
       "      <td>action</td>\n",
       "      <td>Electronic Arts</td>\n",
       "      <td>E</td>\n",
       "      <td>2.913043</td>\n",
       "      <td>0.880000</td>\n",
       "    </tr>\n",
       "    <tr>\n",
       "      <th>4</th>\n",
       "      <td>188</td>\n",
       "      <td>3ds</td>\n",
       "      <td>2011</td>\n",
       "      <td>racing</td>\n",
       "      <td>Ubisoft</td>\n",
       "      <td>E10+</td>\n",
       "      <td>1.162162</td>\n",
       "      <td>0.183333</td>\n",
       "    </tr>\n",
       "  </tbody>\n",
       "</table>\n",
       "</div>"
      ],
      "text/plain": [
       "     ID CONSOLE  YEAR  CATEGORY        PUBLISHER RATING  CRITICS_POINTS  \\\n",
       "0  4310     ps2  2008    action       Tecmo Koei      T        3.928571   \n",
       "1  4011     psp  2007  strategy            Atari   E10+        5.538462   \n",
       "2  2185     ps2  2004   shooter  Electronic Arts      T        3.034483   \n",
       "3  1644       x  2006    action  Electronic Arts      E        2.913043   \n",
       "4   188     3ds  2011    racing          Ubisoft   E10+        1.162162   \n",
       "\n",
       "   USER_POINTS  \n",
       "0     0.482353  \n",
       "1     0.071795  \n",
       "2     0.062044  \n",
       "3     0.880000  \n",
       "4     0.183333  "
      ]
     },
     "execution_count": 8,
     "metadata": {},
     "output_type": "execute_result"
    }
   ],
   "source": [
    "test.head()"
   ]
  },
  {
   "cell_type": "code",
   "execution_count": 9,
   "metadata": {},
   "outputs": [
    {
     "data": {
      "text/plain": [
       "((3506, 9), (1503, 8))"
      ]
     },
     "execution_count": 9,
     "metadata": {},
     "output_type": "execute_result"
    }
   ],
   "source": [
    "train.shape, test.shape"
   ]
  },
  {
   "cell_type": "markdown",
   "metadata": {},
   "source": [
    "## Feature Engineering"
   ]
  },
  {
   "cell_type": "code",
   "execution_count": 10,
   "metadata": {},
   "outputs": [],
   "source": [
    "train['points'] = train['CRITICS_POINTS'] * train['USER_POINTS']\n",
    "test['points'] = test['CRITICS_POINTS'] * test['USER_POINTS']"
   ]
  },
  {
   "cell_type": "code",
   "execution_count": 11,
   "metadata": {},
   "outputs": [],
   "source": [
    "train['Critic_point_cat_mean'] = train.groupby('CATEGORY')['CRITICS_POINTS'].transform('mean')\n",
    "train['Critic_point_cat_std'] = train.groupby('CATEGORY')['CRITICS_POINTS'].transform('std')\n",
    "\n",
    "test['Critic_point_cat_mean'] = test.groupby('CATEGORY')['CRITICS_POINTS'].transform('mean')\n",
    "test['Critic_point_cat_std'] = test.groupby('CATEGORY')['CRITICS_POINTS'].transform('std')"
   ]
  },
  {
   "cell_type": "code",
   "execution_count": 12,
   "metadata": {},
   "outputs": [],
   "source": [
    "train['user_point_cat_mean'] = train.groupby('CATEGORY')['USER_POINTS'].transform('mean')\n",
    "train['user_point_cat_std'] = train.groupby('CATEGORY')['USER_POINTS'].transform('std')\n",
    "\n",
    "test['user_point_cat_mean'] = test.groupby('CATEGORY')['USER_POINTS'].transform('mean')\n",
    "test['user_point_cat_std'] = test.groupby('CATEGORY')['USER_POINTS'].transform('std')"
   ]
  },
  {
   "cell_type": "code",
   "execution_count": 13,
   "metadata": {},
   "outputs": [],
   "source": [
    "train['n_year_rating'] = train.groupby('YEAR')['RATING'].transform('nunique')\n",
    "test['n_year_rating'] = test.groupby('YEAR')['RATING'].transform('nunique')"
   ]
  },
  {
   "cell_type": "code",
   "execution_count": 14,
   "metadata": {},
   "outputs": [],
   "source": [
    "train['n_console_category'] = train.groupby('PUBLISHER')['CATEGORY'].transform('nunique')\n",
    "test['n_console_category'] = test.groupby('CONSOLE')['CATEGORY'].transform('nunique')"
   ]
  },
  {
   "cell_type": "code",
   "execution_count": 15,
   "metadata": {},
   "outputs": [],
   "source": [
    "train['n_publisher_console'] = train.groupby('PUBLISHER')['CONSOLE'].transform('nunique')\n",
    "test['n_publisher_console'] = test.groupby('PUBLISHER')['CONSOLE'].transform('nunique')"
   ]
  },
  {
   "cell_type": "code",
   "execution_count": 16,
   "metadata": {},
   "outputs": [],
   "source": [
    "train['user_publisher_mean'] = train.groupby('PUBLISHER')['USER_POINTS'].transform('mean')\n",
    "train['user_publisher_std'] = train.groupby('PUBLISHER')['USER_POINTS'].transform('std')\n",
    "\n",
    "test['user_publisher_mean'] = test.groupby('PUBLISHER')['USER_POINTS'].transform('mean')\n",
    "test['user_publisher_std'] = test.groupby('PUBLISHER')['USER_POINTS'].transform('std')"
   ]
  },
  {
   "cell_type": "code",
   "execution_count": 17,
   "metadata": {},
   "outputs": [],
   "source": [
    "train['USER_POINTS'] = np.log1p(train['USER_POINTS'])\n",
    "test['USER_POINTS'] = np.log1p(test['USER_POINTS'])"
   ]
  },
  {
   "cell_type": "code",
   "execution_count": 18,
   "metadata": {},
   "outputs": [],
   "source": [
    "train['CRITICS_POINTS'] = np.log1p(train['CRITICS_POINTS'])\n",
    "test['CRITICS_POINTS'] = np.log1p(test['CRITICS_POINTS'])"
   ]
  },
  {
   "cell_type": "code",
   "execution_count": 19,
   "metadata": {
    "scrolled": true
   },
   "outputs": [
    {
     "data": {
      "text/html": [
       "<div>\n",
       "<style scoped>\n",
       "    .dataframe tbody tr th:only-of-type {\n",
       "        vertical-align: middle;\n",
       "    }\n",
       "\n",
       "    .dataframe tbody tr th {\n",
       "        vertical-align: top;\n",
       "    }\n",
       "\n",
       "    .dataframe thead th {\n",
       "        text-align: right;\n",
       "    }\n",
       "</style>\n",
       "<table border=\"1\" class=\"dataframe\">\n",
       "  <thead>\n",
       "    <tr style=\"text-align: right;\">\n",
       "      <th></th>\n",
       "      <th>ID</th>\n",
       "      <th>CONSOLE</th>\n",
       "      <th>YEAR</th>\n",
       "      <th>CATEGORY</th>\n",
       "      <th>PUBLISHER</th>\n",
       "      <th>RATING</th>\n",
       "      <th>CRITICS_POINTS</th>\n",
       "      <th>USER_POINTS</th>\n",
       "      <th>SalesInMillions</th>\n",
       "      <th>points</th>\n",
       "      <th>Critic_point_cat_mean</th>\n",
       "      <th>Critic_point_cat_std</th>\n",
       "      <th>user_point_cat_mean</th>\n",
       "      <th>user_point_cat_std</th>\n",
       "      <th>n_year_rating</th>\n",
       "      <th>n_console_category</th>\n",
       "      <th>n_publisher_console</th>\n",
       "      <th>user_publisher_mean</th>\n",
       "      <th>user_publisher_std</th>\n",
       "    </tr>\n",
       "  </thead>\n",
       "  <tbody>\n",
       "    <tr>\n",
       "      <th>0</th>\n",
       "      <td>2860</td>\n",
       "      <td>ds</td>\n",
       "      <td>2008</td>\n",
       "      <td>role-playing</td>\n",
       "      <td>Nintendo</td>\n",
       "      <td>E</td>\n",
       "      <td>1.343735</td>\n",
       "      <td>0.265209</td>\n",
       "      <td>1.779257</td>\n",
       "      <td>0.860494</td>\n",
       "      <td>3.030737</td>\n",
       "      <td>2.530770</td>\n",
       "      <td>0.258094</td>\n",
       "      <td>0.372459</td>\n",
       "      <td>4</td>\n",
       "      <td>12</td>\n",
       "      <td>6</td>\n",
       "      <td>0.194803</td>\n",
       "      <td>0.302443</td>\n",
       "    </tr>\n",
       "    <tr>\n",
       "      <th>1</th>\n",
       "      <td>731</td>\n",
       "      <td>wii</td>\n",
       "      <td>2012</td>\n",
       "      <td>simulation</td>\n",
       "      <td>Konami Digital Entertainment</td>\n",
       "      <td>E10+</td>\n",
       "      <td>2.653242</td>\n",
       "      <td>0.970779</td>\n",
       "      <td>0.215050</td>\n",
       "      <td>21.648000</td>\n",
       "      <td>4.637810</td>\n",
       "      <td>3.459926</td>\n",
       "      <td>0.447938</td>\n",
       "      <td>0.399493</td>\n",
       "      <td>4</td>\n",
       "      <td>12</td>\n",
       "      <td>13</td>\n",
       "      <td>0.501914</td>\n",
       "      <td>0.524219</td>\n",
       "    </tr>\n",
       "    <tr>\n",
       "      <th>2</th>\n",
       "      <td>495</td>\n",
       "      <td>pc</td>\n",
       "      <td>2019</td>\n",
       "      <td>shooter</td>\n",
       "      <td>Activision</td>\n",
       "      <td>M</td>\n",
       "      <td>1.716048</td>\n",
       "      <td>0.006390</td>\n",
       "      <td>0.534402</td>\n",
       "      <td>0.029247</td>\n",
       "      <td>2.655283</td>\n",
       "      <td>2.097455</td>\n",
       "      <td>0.253722</td>\n",
       "      <td>0.392199</td>\n",
       "      <td>4</td>\n",
       "      <td>11</td>\n",
       "      <td>16</td>\n",
       "      <td>0.441186</td>\n",
       "      <td>0.466400</td>\n",
       "    </tr>\n",
       "    <tr>\n",
       "      <th>3</th>\n",
       "      <td>2641</td>\n",
       "      <td>ps2</td>\n",
       "      <td>2002</td>\n",
       "      <td>sports</td>\n",
       "      <td>Electronic Arts</td>\n",
       "      <td>E</td>\n",
       "      <td>1.645156</td>\n",
       "      <td>0.282863</td>\n",
       "      <td>1.383964</td>\n",
       "      <td>1.367133</td>\n",
       "      <td>4.460985</td>\n",
       "      <td>3.110016</td>\n",
       "      <td>0.544185</td>\n",
       "      <td>0.508669</td>\n",
       "      <td>3</td>\n",
       "      <td>12</td>\n",
       "      <td>16</td>\n",
       "      <td>0.356344</td>\n",
       "      <td>0.412553</td>\n",
       "    </tr>\n",
       "    <tr>\n",
       "      <th>4</th>\n",
       "      <td>811</td>\n",
       "      <td>ps3</td>\n",
       "      <td>2013</td>\n",
       "      <td>action</td>\n",
       "      <td>Activision</td>\n",
       "      <td>M</td>\n",
       "      <td>1.181500</td>\n",
       "      <td>0.032060</td>\n",
       "      <td>0.082671</td>\n",
       "      <td>0.073605</td>\n",
       "      <td>3.853440</td>\n",
       "      <td>3.469185</td>\n",
       "      <td>0.362329</td>\n",
       "      <td>0.417877</td>\n",
       "      <td>4</td>\n",
       "      <td>11</td>\n",
       "      <td>16</td>\n",
       "      <td>0.441186</td>\n",
       "      <td>0.466400</td>\n",
       "    </tr>\n",
       "  </tbody>\n",
       "</table>\n",
       "</div>"
      ],
      "text/plain": [
       "     ID CONSOLE  YEAR      CATEGORY                     PUBLISHER RATING  \\\n",
       "0  2860      ds  2008  role-playing                      Nintendo      E   \n",
       "1   731     wii  2012    simulation  Konami Digital Entertainment   E10+   \n",
       "2   495      pc  2019       shooter                    Activision      M   \n",
       "3  2641     ps2  2002        sports               Electronic Arts      E   \n",
       "4   811     ps3  2013        action                    Activision      M   \n",
       "\n",
       "   CRITICS_POINTS  USER_POINTS  SalesInMillions     points  \\\n",
       "0        1.343735     0.265209         1.779257   0.860494   \n",
       "1        2.653242     0.970779         0.215050  21.648000   \n",
       "2        1.716048     0.006390         0.534402   0.029247   \n",
       "3        1.645156     0.282863         1.383964   1.367133   \n",
       "4        1.181500     0.032060         0.082671   0.073605   \n",
       "\n",
       "   Critic_point_cat_mean  Critic_point_cat_std  user_point_cat_mean  \\\n",
       "0               3.030737              2.530770             0.258094   \n",
       "1               4.637810              3.459926             0.447938   \n",
       "2               2.655283              2.097455             0.253722   \n",
       "3               4.460985              3.110016             0.544185   \n",
       "4               3.853440              3.469185             0.362329   \n",
       "\n",
       "   user_point_cat_std  n_year_rating  n_console_category  n_publisher_console  \\\n",
       "0            0.372459              4                  12                    6   \n",
       "1            0.399493              4                  12                   13   \n",
       "2            0.392199              4                  11                   16   \n",
       "3            0.508669              3                  12                   16   \n",
       "4            0.417877              4                  11                   16   \n",
       "\n",
       "   user_publisher_mean  user_publisher_std  \n",
       "0             0.194803            0.302443  \n",
       "1             0.501914            0.524219  \n",
       "2             0.441186            0.466400  \n",
       "3             0.356344            0.412553  \n",
       "4             0.441186            0.466400  "
      ]
     },
     "execution_count": 19,
     "metadata": {},
     "output_type": "execute_result"
    }
   ],
   "source": [
    "train.head()"
   ]
  },
  {
   "cell_type": "code",
   "execution_count": 20,
   "metadata": {},
   "outputs": [],
   "source": [
    "X = train.drop(columns='SalesInMillions')\n",
    "y = train['SalesInMillions']\n",
    "tes = test"
   ]
  },
  {
   "cell_type": "markdown",
   "metadata": {},
   "source": [
    "## Modelling"
   ]
  },
  {
   "cell_type": "code",
   "execution_count": 21,
   "metadata": {},
   "outputs": [
    {
     "data": {
      "text/plain": [
       "array([1, 3, 4, 5], dtype=int64)"
      ]
     },
     "execution_count": 21,
     "metadata": {},
     "output_type": "execute_result"
    }
   ],
   "source": [
    "cate_features_index = np.where(X.dtypes == object) [0]; cate_features_index"
   ]
  },
  {
   "cell_type": "code",
   "execution_count": 22,
   "metadata": {
    "scrolled": true
   },
   "outputs": [
    {
     "name": "stdout",
     "output_type": "stream",
     "text": [
      "0:\tlearn: 2.6475859\ttest: 2.6475776\ttest1: 1.7486967\tbest: 1.7486967 (0)\ttotal: 216ms\tremaining: 2h 59m 58s\n",
      "100:\tlearn: 2.3544923\ttest: 2.3392493\ttest1: 1.6156152\tbest: 1.6156152 (100)\ttotal: 7.13s\tremaining: 58m 44s\n",
      "200:\tlearn: 2.1527091\ttest: 2.1350226\ttest1: 1.5889921\tbest: 1.5885787 (199)\ttotal: 14.3s\tremaining: 59m 5s\n",
      "300:\tlearn: 1.9859281\ttest: 1.9785939\ttest1: 1.5867512\tbest: 1.5796093 (280)\ttotal: 21.2s\tremaining: 58m 17s\n",
      "400:\tlearn: 1.8821033\ttest: 1.8881150\ttest1: 1.5991241\tbest: 1.5796093 (280)\ttotal: 28.3s\tremaining: 58m 22s\n",
      "500:\tlearn: 1.8131778\ttest: 1.8293921\ttest1: 1.6144042\tbest: 1.5796093 (280)\ttotal: 35.2s\tremaining: 57m 56s\n",
      "600:\tlearn: 1.7584468\ttest: 1.7837642\ttest1: 1.6383183\tbest: 1.5796093 (280)\ttotal: 41.9s\tremaining: 57m 22s\n",
      "700:\tlearn: 1.7219877\ttest: 1.7574628\ttest1: 1.6540981\tbest: 1.5796093 (280)\ttotal: 48.6s\tremaining: 56m 54s\n",
      "Stopped by overfitting detector  (500 iterations wait)\n",
      "\n",
      "bestTest = 1.579609287\n",
      "bestIteration = 280\n",
      "\n",
      "Shrink model to first 281 iterations.\n",
      "err:  1.5796092712565242\n",
      "0:\tlearn: 2.0014204\ttest: 2.0014204\ttest1: 3.8814012\tbest: 3.8814012 (0)\ttotal: 41.9ms\tremaining: 34m 52s\n",
      "100:\tlearn: 1.8622117\ttest: 1.8470583\ttest1: 3.7621840\tbest: 3.7621840 (100)\ttotal: 6.7s\tremaining: 55m 12s\n",
      "200:\tlearn: 1.7778691\ttest: 1.7627563\ttest1: 3.6909151\tbest: 3.6909151 (200)\ttotal: 13.4s\tremaining: 55m 14s\n",
      "300:\tlearn: 1.6933890\ttest: 1.6901775\ttest1: 3.6127634\tbest: 3.6127634 (300)\ttotal: 20.3s\tremaining: 55m 52s\n",
      "400:\tlearn: 1.6380738\ttest: 1.6488291\ttest1: 3.5680378\tbest: 3.5680378 (400)\ttotal: 27.2s\tremaining: 56m 6s\n",
      "500:\tlearn: 1.6085656\ttest: 1.6284362\ttest1: 3.5444093\tbest: 3.5444093 (500)\ttotal: 34.1s\tremaining: 56m 11s\n",
      "600:\tlearn: 1.5993046\ttest: 1.6220355\ttest1: 3.5355244\tbest: 3.5355244 (600)\ttotal: 41.1s\tremaining: 56m 19s\n",
      "700:\tlearn: 1.5961651\ttest: 1.6205805\ttest1: 3.5347152\tbest: 3.5346165 (675)\ttotal: 46.9s\tremaining: 54m 56s\n",
      "800:\tlearn: 1.5943682\ttest: 1.6199403\ttest1: 3.5331531\tbest: 3.5331112 (791)\ttotal: 52.8s\tremaining: 54m 5s\n",
      "900:\tlearn: 1.5930589\ttest: 1.6197513\ttest1: 3.5332824\tbest: 3.5330815 (817)\ttotal: 59.5s\tremaining: 54m 4s\n",
      "1000:\tlearn: 1.5916995\ttest: 1.6196521\ttest1: 3.5335259\tbest: 3.5330815 (817)\ttotal: 1m 6s\tremaining: 53m 53s\n",
      "1100:\tlearn: 1.5909026\ttest: 1.6195174\ttest1: 3.5336495\tbest: 3.5330815 (817)\ttotal: 1m 12s\tremaining: 53m 45s\n",
      "1200:\tlearn: 1.5906058\ttest: 1.6194947\ttest1: 3.5337403\tbest: 3.5330815 (817)\ttotal: 1m 19s\tremaining: 53m 41s\n",
      "1300:\tlearn: 1.5903155\ttest: 1.6194576\ttest1: 3.5338616\tbest: 3.5330815 (817)\ttotal: 1m 25s\tremaining: 53m 37s\n",
      "Stopped by overfitting detector  (500 iterations wait)\n",
      "\n",
      "bestTest = 3.533081519\n",
      "bestIteration = 817\n",
      "\n",
      "Shrink model to first 818 iterations.\n",
      "err:  3.5330814063607\n",
      "0:\tlearn: 2.5900535\ttest: 2.5900535\ttest1: 2.0557244\tbest: 2.0557244 (0)\ttotal: 53.2ms\tremaining: 44m 18s\n",
      "100:\tlearn: 2.3745904\ttest: 2.3752315\ttest1: 1.8860652\tbest: 1.8860652 (100)\ttotal: 6.75s\tremaining: 55m 32s\n",
      "200:\tlearn: 2.2012729\ttest: 2.2297634\ttest1: 1.7794775\tbest: 1.7794775 (200)\ttotal: 13.3s\tremaining: 55m 2s\n",
      "300:\tlearn: 2.0736739\ttest: 2.1311948\ttest1: 1.7026452\tbest: 1.7026452 (300)\ttotal: 20.1s\tremaining: 55m 21s\n",
      "400:\tlearn: 1.9670351\ttest: 2.0479197\ttest1: 1.6453854\tbest: 1.6453854 (400)\ttotal: 27s\tremaining: 55m 41s\n",
      "500:\tlearn: 1.9012542\ttest: 1.9985439\ttest1: 1.6187245\tbest: 1.6187229 (499)\ttotal: 33.8s\tremaining: 55m 43s\n",
      "600:\tlearn: 1.8679348\ttest: 1.9781936\ttest1: 1.5981905\tbest: 1.5981905 (600)\ttotal: 40.5s\tremaining: 55m 26s\n",
      "700:\tlearn: 1.8546433\ttest: 1.9678721\ttest1: 1.5909657\tbest: 1.5909657 (700)\ttotal: 46.3s\tremaining: 54m 15s\n",
      "800:\tlearn: 1.8510233\ttest: 1.9661417\ttest1: 1.5883917\tbest: 1.5883889 (798)\ttotal: 52.1s\tremaining: 53m 22s\n",
      "900:\tlearn: 1.8440526\ttest: 1.9614719\ttest1: 1.5839096\tbest: 1.5839096 (900)\ttotal: 58.4s\tremaining: 53m 3s\n",
      "1000:\tlearn: 1.8398214\ttest: 1.9583612\ttest1: 1.5815299\tbest: 1.5814370 (997)\ttotal: 1m 5s\tremaining: 53m 8s\n",
      "1100:\tlearn: 1.8381923\ttest: 1.9578576\ttest1: 1.5805871\tbest: 1.5805780 (1081)\ttotal: 1m 11s\tremaining: 53m 3s\n",
      "1200:\tlearn: 1.8358037\ttest: 1.9568786\ttest1: 1.5799086\tbest: 1.5798761 (1192)\ttotal: 1m 18s\tremaining: 52m 59s\n",
      "1300:\tlearn: 1.8317056\ttest: 1.9534238\ttest1: 1.5782434\tbest: 1.5782414 (1298)\ttotal: 1m 24s\tremaining: 52m 54s\n",
      "1400:\tlearn: 1.8277924\ttest: 1.9516781\ttest1: 1.5775414\tbest: 1.5772452 (1373)\ttotal: 1m 31s\tremaining: 52m 49s\n",
      "1500:\tlearn: 1.8226037\ttest: 1.9494147\ttest1: 1.5756493\tbest: 1.5756493 (1500)\ttotal: 1m 37s\tremaining: 52m 44s\n",
      "1600:\tlearn: 1.8161317\ttest: 1.9482691\ttest1: 1.5758988\tbest: 1.5753337 (1552)\ttotal: 1m 44s\tremaining: 52m 39s\n",
      "1700:\tlearn: 1.8098373\ttest: 1.9478516\ttest1: 1.5758207\tbest: 1.5753337 (1552)\ttotal: 1m 51s\tremaining: 52m 36s\n",
      "1800:\tlearn: 1.8055967\ttest: 1.9468438\ttest1: 1.5749467\tbest: 1.5748563 (1793)\ttotal: 1m 57s\tremaining: 52m 30s\n",
      "1900:\tlearn: 1.8027644\ttest: 1.9471821\ttest1: 1.5752028\tbest: 1.5748563 (1793)\ttotal: 2m 4s\tremaining: 52m 25s\n",
      "2000:\tlearn: 1.7972876\ttest: 1.9438642\ttest1: 1.5725842\tbest: 1.5725810 (1994)\ttotal: 2m 10s\tremaining: 52m 19s\n",
      "2100:\tlearn: 1.7962226\ttest: 1.9432824\ttest1: 1.5718672\tbest: 1.5718423 (2040)\ttotal: 2m 17s\tremaining: 52m 18s\n",
      "2200:\tlearn: 1.7947843\ttest: 1.9421898\ttest1: 1.5709034\tbest: 1.5708970 (2156)\ttotal: 2m 24s\tremaining: 52m 11s\n",
      "2300:\tlearn: 1.7920310\ttest: 1.9413655\ttest1: 1.5711278\tbest: 1.5708967 (2201)\ttotal: 2m 30s\tremaining: 52m 3s\n",
      "2400:\tlearn: 1.7889880\ttest: 1.9402787\ttest1: 1.5718619\tbest: 1.5708967 (2201)\ttotal: 2m 37s\tremaining: 51m 54s\n",
      "2500:\tlearn: 1.7885841\ttest: 1.9402996\ttest1: 1.5718777\tbest: 1.5708967 (2201)\ttotal: 2m 43s\tremaining: 51m 46s\n",
      "2600:\tlearn: 1.7867795\ttest: 1.9384675\ttest1: 1.5719554\tbest: 1.5708967 (2201)\ttotal: 2m 50s\tremaining: 51m 40s\n",
      "2700:\tlearn: 1.7856398\ttest: 1.9381554\ttest1: 1.5726290\tbest: 1.5708967 (2201)\ttotal: 2m 56s\tremaining: 51m 34s\n",
      "Stopped by overfitting detector  (500 iterations wait)\n",
      "\n",
      "bestTest = 1.570896687\n",
      "bestIteration = 2201\n",
      "\n",
      "Shrink model to first 2202 iterations.\n",
      "err:  1.5708966798235917\n",
      "0:\tlearn: 2.5949578\ttest: 2.5949578\ttest1: 2.0341683\tbest: 2.0341683 (0)\ttotal: 63.7ms\tremaining: 53m 4s\n",
      "100:\tlearn: 2.3807674\ttest: 2.3784899\ttest1: 1.8968943\tbest: 1.8968943 (100)\ttotal: 6.9s\tremaining: 56m 50s\n",
      "200:\tlearn: 2.2064533\ttest: 2.2114371\ttest1: 1.7721894\tbest: 1.7721894 (200)\ttotal: 13.5s\tremaining: 55m 41s\n",
      "300:\tlearn: 2.0561662\ttest: 2.0752741\ttest1: 1.6923735\tbest: 1.6923735 (300)\ttotal: 20.2s\tremaining: 55m 41s\n",
      "400:\tlearn: 1.9449044\ttest: 1.9870297\ttest1: 1.6534147\tbest: 1.6534147 (400)\ttotal: 27.2s\tremaining: 56m 8s\n",
      "500:\tlearn: 1.8780559\ttest: 1.9380273\ttest1: 1.6263001\tbest: 1.6263001 (500)\ttotal: 34s\tremaining: 55m 58s\n",
      "600:\tlearn: 1.8368598\ttest: 1.9096133\ttest1: 1.6081843\tbest: 1.6081843 (600)\ttotal: 40.6s\tremaining: 55m 34s\n",
      "700:\tlearn: 1.8143924\ttest: 1.8943342\ttest1: 1.6028836\tbest: 1.6028664 (699)\ttotal: 46.7s\tremaining: 54m 44s\n",
      "800:\tlearn: 1.7953642\ttest: 1.8829575\ttest1: 1.6000400\tbest: 1.6000397 (799)\ttotal: 52.8s\tremaining: 54m\n",
      "900:\tlearn: 1.7806934\ttest: 1.8746918\ttest1: 1.6000580\tbest: 1.5985939 (830)\ttotal: 58.5s\tremaining: 53m 5s\n",
      "1000:\tlearn: 1.7708685\ttest: 1.8719279\ttest1: 1.6058808\tbest: 1.5985939 (830)\ttotal: 1m 4s\tremaining: 52m 29s\n",
      "1100:\tlearn: 1.7642112\ttest: 1.8717055\ttest1: 1.6135882\tbest: 1.5985939 (830)\ttotal: 1m 10s\tremaining: 52m 13s\n",
      "1200:\tlearn: 1.7587873\ttest: 1.8730304\ttest1: 1.6233237\tbest: 1.5985939 (830)\ttotal: 1m 17s\tremaining: 52m 13s\n",
      "1300:\tlearn: 1.7548310\ttest: 1.8752725\ttest1: 1.6332298\tbest: 1.5985939 (830)\ttotal: 1m 23s\tremaining: 52m 5s\n",
      "Stopped by overfitting detector  (500 iterations wait)\n",
      "\n",
      "bestTest = 1.598593945\n",
      "bestIteration = 830\n",
      "\n",
      "Shrink model to first 831 iterations.\n",
      "err:  1.5985939527769937\n",
      "0:\tlearn: 2.5724903\ttest: 2.5724903\ttest1: 2.1467153\tbest: 2.1467153 (0)\ttotal: 52.3ms\tremaining: 43m 37s\n",
      "100:\tlearn: 2.3315185\ttest: 2.3257631\ttest1: 1.9946461\tbest: 1.9946461 (100)\ttotal: 6.65s\tremaining: 54m 47s\n",
      "200:\tlearn: 2.1456107\ttest: 2.1461840\ttest1: 1.9460839\tbest: 1.9459016 (199)\ttotal: 13.1s\tremaining: 54m 10s\n",
      "300:\tlearn: 1.9561450\ttest: 1.9874111\ttest1: 1.9432942\tbest: 1.9378010 (237)\ttotal: 20.1s\tremaining: 55m 20s\n",
      "400:\tlearn: 1.8331393\ttest: 1.8861764\ttest1: 1.9358149\tbest: 1.9341299 (363)\ttotal: 27s\tremaining: 55m 35s\n"
     ]
    },
    {
     "name": "stdout",
     "output_type": "stream",
     "text": [
      "500:\tlearn: 1.7573773\ttest: 1.8336074\ttest1: 1.9450921\tbest: 1.9341299 (363)\ttotal: 33.9s\tremaining: 55m 50s\n",
      "600:\tlearn: 1.7150150\ttest: 1.8035980\ttest1: 1.9486315\tbest: 1.9341299 (363)\ttotal: 41.3s\tremaining: 56m 38s\n",
      "700:\tlearn: 1.6826387\ttest: 1.7830033\ttest1: 1.9561862\tbest: 1.9341299 (363)\ttotal: 48.6s\tremaining: 56m 56s\n",
      "800:\tlearn: 1.6702643\ttest: 1.7771117\ttest1: 1.9573263\tbest: 1.9341299 (363)\ttotal: 55.9s\tremaining: 57m 13s\n",
      "Stopped by overfitting detector  (500 iterations wait)\n",
      "\n",
      "bestTest = 1.934129865\n",
      "bestIteration = 363\n",
      "\n",
      "Shrink model to first 364 iterations.\n",
      "err:  1.934129880240138\n"
     ]
    },
    {
     "data": {
      "text/plain": [
       "2.0432622380915895"
      ]
     },
     "execution_count": 22,
     "metadata": {},
     "output_type": "execute_result"
    }
   ],
   "source": [
    "err=[]\n",
    "y_pred_totcb=[]\n",
    "\n",
    "fold=KFold(n_splits=5, random_state=1234)\n",
    "for train_index, test_index in fold.split(X,y):\n",
    "    X_train, X_test = X.iloc[train_index], X.iloc[test_index]\n",
    "    y_train, y_test = y.iloc[train_index], y.iloc[test_index]\n",
    "    m1 = CatBoostRegressor(iterations=50000, learning_rate=0.01, random_seed=1234, eval_metric='RMSE')\n",
    "    m1.fit(X_train,y_train,eval_set=[(X_train,y_train),(X_test, y_test)], early_stopping_rounds=500,verbose=100,cat_features=cate_features_index)\n",
    "    preds = m1.predict(X_test)\n",
    "    print(\"err: \",np.sqrt(mean_squared_error(y_test,preds)))\n",
    "    err.append(np.sqrt(mean_squared_error(y_test,preds)))\n",
    "    p2 = m1.predict(tes)\n",
    "    y_pred_totcb.append(p2)\n",
    "np.mean(err)"
   ]
  },
  {
   "cell_type": "code",
   "execution_count": 23,
   "metadata": {},
   "outputs": [],
   "source": [
    "col = ['CONSOLE','CATEGORY','PUBLISHER','RATING']\n",
    "for i in col:\n",
    "    X[col] = X[col].astype('category')\n",
    "    tes[col] = tes[col].astype('category')"
   ]
  },
  {
   "cell_type": "code",
   "execution_count": 24,
   "metadata": {},
   "outputs": [
    {
     "name": "stdout",
     "output_type": "stream",
     "text": [
      "Training until validation scores don't improve for 500 rounds\n",
      "[100]\ttraining's l2: 5.43639\tvalid_1's l2: 2.52519\n",
      "[200]\ttraining's l2: 4.74461\tvalid_1's l2: 2.39104\n",
      "[300]\ttraining's l2: 4.19516\tvalid_1's l2: 2.33957\n",
      "[400]\ttraining's l2: 3.77845\tvalid_1's l2: 2.38257\n",
      "[500]\ttraining's l2: 3.49073\tvalid_1's l2: 2.42447\n",
      "[600]\ttraining's l2: 3.2497\tvalid_1's l2: 2.46853\n",
      "[700]\ttraining's l2: 3.03947\tvalid_1's l2: 2.50996\n",
      "[800]\ttraining's l2: 2.85681\tvalid_1's l2: 2.55461\n",
      "Early stopping, best iteration is:\n",
      "[303]\ttraining's l2: 4.17824\tvalid_1's l2: 2.33767\n",
      "err:  1.5289446531512123\n",
      "Training until validation scores don't improve for 500 rounds\n",
      "[100]\ttraining's l2: 3.11981\tvalid_1's l2: 13.6532\n",
      "[200]\ttraining's l2: 2.57603\tvalid_1's l2: 12.7584\n",
      "[300]\ttraining's l2: 2.22627\tvalid_1's l2: 12.1811\n",
      "[400]\ttraining's l2: 2.00431\tvalid_1's l2: 11.8451\n",
      "[500]\ttraining's l2: 1.81841\tvalid_1's l2: 11.4579\n",
      "[600]\ttraining's l2: 1.6707\tvalid_1's l2: 11.1816\n",
      "[700]\ttraining's l2: 1.54597\tvalid_1's l2: 10.9342\n",
      "[800]\ttraining's l2: 1.43513\tvalid_1's l2: 10.7798\n",
      "[900]\ttraining's l2: 1.33716\tvalid_1's l2: 10.6314\n",
      "[1000]\ttraining's l2: 1.25023\tvalid_1's l2: 10.5563\n",
      "Did not meet early stopping. Best iteration is:\n",
      "[1000]\ttraining's l2: 1.25023\tvalid_1's l2: 10.5563\n",
      "err:  3.2490407210529413\n",
      "Training until validation scores don't improve for 500 rounds\n",
      "[100]\ttraining's l2: 5.27787\tvalid_1's l2: 3.32795\n",
      "[200]\ttraining's l2: 4.56758\tvalid_1's l2: 2.98062\n",
      "[300]\ttraining's l2: 4.10021\tvalid_1's l2: 2.79206\n",
      "[400]\ttraining's l2: 3.76974\tvalid_1's l2: 2.67185\n",
      "[500]\ttraining's l2: 3.49509\tvalid_1's l2: 2.55462\n",
      "[600]\ttraining's l2: 3.2751\tvalid_1's l2: 2.45676\n",
      "[700]\ttraining's l2: 3.09047\tvalid_1's l2: 2.38042\n",
      "[800]\ttraining's l2: 2.9308\tvalid_1's l2: 2.33143\n",
      "[900]\ttraining's l2: 2.7906\tvalid_1's l2: 2.27876\n",
      "[1000]\ttraining's l2: 2.65993\tvalid_1's l2: 2.23916\n",
      "Did not meet early stopping. Best iteration is:\n",
      "[1000]\ttraining's l2: 2.65993\tvalid_1's l2: 2.23916\n",
      "err:  1.496380697561439\n",
      "Training until validation scores don't improve for 500 rounds\n",
      "[100]\ttraining's l2: 5.37447\tvalid_1's l2: 3.71424\n",
      "[200]\ttraining's l2: 4.60796\tvalid_1's l2: 3.48539\n",
      "[300]\ttraining's l2: 4.10391\tvalid_1's l2: 3.33654\n",
      "[400]\ttraining's l2: 3.7319\tvalid_1's l2: 3.19583\n",
      "[500]\ttraining's l2: 3.44737\tvalid_1's l2: 3.08919\n",
      "[600]\ttraining's l2: 3.2149\tvalid_1's l2: 3.02275\n",
      "[700]\ttraining's l2: 3.01477\tvalid_1's l2: 2.98591\n",
      "[800]\ttraining's l2: 2.83997\tvalid_1's l2: 2.97332\n",
      "[900]\ttraining's l2: 2.6953\tvalid_1's l2: 2.96719\n",
      "[1000]\ttraining's l2: 2.56285\tvalid_1's l2: 2.95195\n",
      "Did not meet early stopping. Best iteration is:\n",
      "[1000]\ttraining's l2: 2.56285\tvalid_1's l2: 2.95195\n",
      "err:  1.7181228081238702\n",
      "Training until validation scores don't improve for 500 rounds\n",
      "[100]\ttraining's l2: 5.43804\tvalid_1's l2: 3.81172\n",
      "[200]\ttraining's l2: 4.7225\tvalid_1's l2: 3.54692\n",
      "[300]\ttraining's l2: 4.13149\tvalid_1's l2: 3.49583\n",
      "[400]\ttraining's l2: 3.73501\tvalid_1's l2: 3.50704\n",
      "[500]\ttraining's l2: 3.43352\tvalid_1's l2: 3.53359\n",
      "[600]\ttraining's l2: 3.19294\tvalid_1's l2: 3.57017\n",
      "[700]\ttraining's l2: 2.99713\tvalid_1's l2: 3.60933\n",
      "[800]\ttraining's l2: 2.82993\tvalid_1's l2: 3.65878\n",
      "Early stopping, best iteration is:\n",
      "[308]\ttraining's l2: 4.0924\tvalid_1's l2: 3.49278\n",
      "err:  1.868897160927326\n"
     ]
    },
    {
     "data": {
      "text/plain": [
       "1.9722772081633575"
      ]
     },
     "execution_count": 24,
     "metadata": {},
     "output_type": "execute_result"
    }
   ],
   "source": [
    "err1=[]\n",
    "y_pred_totcb1=[]\n",
    "\n",
    "fold=KFold(n_splits=5, random_state=1234)\n",
    "for train_index, test_index in fold.split(X,y):\n",
    "    X_train, X_test = X.iloc[train_index], X.iloc[test_index]\n",
    "    y_train, y_test = y.iloc[train_index], y.iloc[test_index]\n",
    "    m2 = LGBMRegressor(n_estimators=1000, max_depth=-1, learning_rate=0.006, random_state=42)\n",
    "    m2.fit(X_train,y_train,eval_set=[(X_train,y_train),(X_test, y_test)], early_stopping_rounds=500,verbose=100,)\n",
    "    preds = m2.predict(X_test)\n",
    "    print(\"err: \",np.sqrt(mean_squared_error(y_test,preds)))\n",
    "    err1.append(np.sqrt(mean_squared_error(y_test,preds)))\n",
    "    p2 = m2.predict(tes)\n",
    "    y_pred_totcb1.append(p2)\n",
    "np.mean(err1)"
   ]
  },
  {
   "cell_type": "code",
   "execution_count": 25,
   "metadata": {},
   "outputs": [],
   "source": [
    "X['RATING'] = X['RATING'].replace({'RP':'T', 'K-A':'T'})\n",
    "tes['RATING'] = tes['RATING'].replace({'AO':'T'})"
   ]
  },
  {
   "cell_type": "code",
   "execution_count": 26,
   "metadata": {},
   "outputs": [],
   "source": [
    "X = pd.get_dummies(data=X, columns=['RATING','CATEGORY'], drop_first=True)\n",
    "tes = pd.get_dummies(data=tes, columns=['RATING','CATEGORY'], drop_first=True)"
   ]
  },
  {
   "cell_type": "code",
   "execution_count": 27,
   "metadata": {},
   "outputs": [],
   "source": [
    "from sklearn.preprocessing import LabelEncoder\n",
    "encode = ['PUBLISHER','CONSOLE']\n",
    "le = LabelEncoder()\n",
    "for col in encode:\n",
    "    X[col] = le.fit_transform(X[col])\n",
    "    tes[col] = le.fit_transform(tes[col])"
   ]
  },
  {
   "cell_type": "code",
   "execution_count": 28,
   "metadata": {},
   "outputs": [
    {
     "name": "stdout",
     "output_type": "stream",
     "text": [
      "[18:23:44] WARNING: C:/Jenkins/workspace/xgboost-win64_release_0.90/src/objective/regression_obj.cu:152: reg:linear is now deprecated in favor of reg:squarederror.\n",
      "[0]\tvalidation_0-rmse:3.01102\tvalidation_1-rmse:2.32145\n",
      "Multiple eval metrics have been passed: 'validation_1-rmse' will be used for early stopping.\n",
      "\n",
      "Will train until validation_1-rmse hasn't improved in 100 rounds.\n",
      "[100]\tvalidation_0-rmse:1.10089\tvalidation_1-rmse:1.70253\n",
      "Stopping. Best iteration:\n",
      "[23]\tvalidation_0-rmse:1.66565\tvalidation_1-rmse:1.61735\n",
      "\n",
      "err:  1.6173494288756791\n",
      "[18:23:45] WARNING: C:/Jenkins/workspace/xgboost-win64_release_0.90/src/objective/regression_obj.cu:152: reg:linear is now deprecated in favor of reg:squarederror.\n",
      "[0]\tvalidation_0-rmse:2.4818\tvalidation_1-rmse:4.2074\n",
      "Multiple eval metrics have been passed: 'validation_1-rmse' will be used for early stopping.\n",
      "\n",
      "Will train until validation_1-rmse hasn't improved in 100 rounds.\n",
      "[100]\tvalidation_0-rmse:1.05123\tvalidation_1-rmse:3.31243\n",
      "[200]\tvalidation_0-rmse:0.883096\tvalidation_1-rmse:3.30233\n",
      "[300]\tvalidation_0-rmse:0.759295\tvalidation_1-rmse:3.29648\n",
      "[400]\tvalidation_0-rmse:0.661054\tvalidation_1-rmse:3.29282\n",
      "Stopping. Best iteration:\n",
      "[382]\tvalidation_0-rmse:0.67557\tvalidation_1-rmse:3.29138\n",
      "\n",
      "err:  3.291379744869903\n",
      "[18:23:51] WARNING: C:/Jenkins/workspace/xgboost-win64_release_0.90/src/objective/regression_obj.cu:152: reg:linear is now deprecated in favor of reg:squarederror.\n",
      "[0]\tvalidation_0-rmse:2.96814\tvalidation_1-rmse:2.53844\n",
      "Multiple eval metrics have been passed: 'validation_1-rmse' will be used for early stopping.\n",
      "\n",
      "Will train until validation_1-rmse hasn't improved in 100 rounds.\n",
      "[100]\tvalidation_0-rmse:1.15393\tvalidation_1-rmse:1.6993\n",
      "[200]\tvalidation_0-rmse:0.988051\tvalidation_1-rmse:1.69324\n",
      "[300]\tvalidation_0-rmse:0.8429\tvalidation_1-rmse:1.68537\n",
      "Stopping. Best iteration:\n",
      "[264]\tvalidation_0-rmse:0.888908\tvalidation_1-rmse:1.68245\n",
      "\n",
      "err:  1.6824530411692706\n",
      "[18:23:56] WARNING: C:/Jenkins/workspace/xgboost-win64_release_0.90/src/objective/regression_obj.cu:152: reg:linear is now deprecated in favor of reg:squarederror.\n",
      "[0]\tvalidation_0-rmse:2.97271\tvalidation_1-rmse:2.54787\n",
      "Multiple eval metrics have been passed: 'validation_1-rmse' will be used for early stopping.\n",
      "\n",
      "Will train until validation_1-rmse hasn't improved in 100 rounds.\n",
      "[100]\tvalidation_0-rmse:1.1033\tvalidation_1-rmse:2.15666\n",
      "[200]\tvalidation_0-rmse:0.918454\tvalidation_1-rmse:2.12381\n",
      "[300]\tvalidation_0-rmse:0.799845\tvalidation_1-rmse:2.11791\n",
      "[400]\tvalidation_0-rmse:0.688908\tvalidation_1-rmse:2.11136\n",
      "Stopping. Best iteration:\n",
      "[372]\tvalidation_0-rmse:0.719858\tvalidation_1-rmse:2.11061\n",
      "\n",
      "err:  2.110606856885603\n",
      "[18:24:01] WARNING: C:/Jenkins/workspace/xgboost-win64_release_0.90/src/objective/regression_obj.cu:152: reg:linear is now deprecated in favor of reg:squarederror.\n",
      "[0]\tvalidation_0-rmse:2.95894\tvalidation_1-rmse:2.59797\n",
      "Multiple eval metrics have been passed: 'validation_1-rmse' will be used for early stopping.\n",
      "\n",
      "Will train until validation_1-rmse hasn't improved in 100 rounds.\n",
      "[100]\tvalidation_0-rmse:1.11553\tvalidation_1-rmse:1.8488\n",
      "Stopping. Best iteration:\n",
      "[40]\tvalidation_0-rmse:1.38852\tvalidation_1-rmse:1.83001\n",
      "\n",
      "err:  1.8300116705383618\n"
     ]
    },
    {
     "data": {
      "text/plain": [
       "2.1063601484677634"
      ]
     },
     "execution_count": 28,
     "metadata": {},
     "output_type": "execute_result"
    }
   ],
   "source": [
    "err2=[]\n",
    "y_pred_totcb2=[]\n",
    "\n",
    "fold=KFold(n_splits=5, random_state=1234)\n",
    "for train_index, test_index in fold.split(X,y):\n",
    "    X_train, X_test = X.iloc[train_index], X.iloc[test_index]\n",
    "    y_train, y_test = y.iloc[train_index], y.iloc[test_index]\n",
    "    m3 = XGBRegressor(n_estimators=1000, max_depth=5, learning_rate=0.07, random_state=42)\n",
    "    m3.fit(X_train,y_train,eval_set=[(X_train,y_train),(X_test, y_test)], early_stopping_rounds=100,verbose=100,)\n",
    "    preds = m3.predict(X_test)\n",
    "    print(\"err: \",np.sqrt(mean_squared_error(y_test,preds)))\n",
    "    err2.append(np.sqrt(mean_squared_error(y_test,preds)))\n",
    "    p2 = m3.predict(tes)\n",
    "    y_pred_totcb2.append(p2)\n",
    "np.mean(err2)"
   ]
  },
  {
   "cell_type": "code",
   "execution_count": 29,
   "metadata": {},
   "outputs": [
    {
     "data": {
      "image/png": "[encoded data removed]",
      "text/plain": [
       "<Figure size 1440x720 with 1 Axes>"
      ]
     },
     "metadata": {
      "needs_background": "light"
     },
     "output_type": "display_data"
    }
   ],
   "source": [
    "## Check for the feature importance \n",
    "fea_imp = pd.DataFrame({'imp':m3.feature_importances_, 'col': X.columns})\n",
    "fea_imp = fea_imp.sort_values(['imp', 'col'], ascending=[True, False]).iloc[-30:]\n",
    "_ = fea_imp.plot(kind='barh', x='col', y='imp', figsize=(20, 10))\n",
    "plt.savefig('catboost_feature_importance.png')"
   ]
  },
  {
   "cell_type": "code",
   "execution_count": 29,
   "metadata": {},
   "outputs": [],
   "source": [
    "predic1 = np.mean(y_pred_totcb, 0)\n",
    "predic2 = np.mean(y_pred_totcb1, 0)\n",
    "predic3 = np.mean(y_pred_totcb2, 0)"
   ]
  },
  {
   "cell_type": "code",
   "execution_count": 30,
   "metadata": {},
   "outputs": [],
   "source": [
    "a = {\"SalesInMillions\": predic1}\n",
    "b = {\"SalesInMillions\": predic2}\n",
    "c = {\"SalesInMillions\": predic3}\n",
    "\n",
    "sub1 = pd.DataFrame(data=a)\n",
    "sub2 = pd.DataFrame(data=b)\n",
    "sub3 = pd.DataFrame(data=c)"
   ]
  },
  {
   "cell_type": "code",
   "execution_count": 31,
   "metadata": {},
   "outputs": [
    {
     "data": {
      "text/html": [
       "<div>\n",
       "<style scoped>\n",
       "    .dataframe tbody tr th:only-of-type {\n",
       "        vertical-align: middle;\n",
       "    }\n",
       "\n",
       "    .dataframe tbody tr th {\n",
       "        vertical-align: top;\n",
       "    }\n",
       "\n",
       "    .dataframe thead th {\n",
       "        text-align: right;\n",
       "    }\n",
       "</style>\n",
       "<table border=\"1\" class=\"dataframe\">\n",
       "  <thead>\n",
       "    <tr style=\"text-align: right;\">\n",
       "      <th></th>\n",
       "      <th>SalesInMillions</th>\n",
       "    </tr>\n",
       "  </thead>\n",
       "  <tbody>\n",
       "    <tr>\n",
       "      <td>0</td>\n",
       "      <td>1.720739</td>\n",
       "    </tr>\n",
       "    <tr>\n",
       "      <td>1</td>\n",
       "      <td>2.009305</td>\n",
       "    </tr>\n",
       "    <tr>\n",
       "      <td>2</td>\n",
       "      <td>3.350372</td>\n",
       "    </tr>\n",
       "    <tr>\n",
       "      <td>3</td>\n",
       "      <td>1.961982</td>\n",
       "    </tr>\n",
       "    <tr>\n",
       "      <td>4</td>\n",
       "      <td>2.050956</td>\n",
       "    </tr>\n",
       "  </tbody>\n",
       "</table>\n",
       "</div>"
      ],
      "text/plain": [
       "   SalesInMillions\n",
       "0         1.720739\n",
       "1         2.009305\n",
       "2         3.350372\n",
       "3         1.961982\n",
       "4         2.050956"
      ]
     },
     "execution_count": 31,
     "metadata": {},
     "output_type": "execute_result"
    }
   ],
   "source": [
    "sub1.head()"
   ]
  },
  {
   "cell_type": "code",
   "execution_count": 32,
   "metadata": {},
   "outputs": [
    {
     "data": {
      "text/html": [
       "<div>\n",
       "<style scoped>\n",
       "    .dataframe tbody tr th:only-of-type {\n",
       "        vertical-align: middle;\n",
       "    }\n",
       "\n",
       "    .dataframe tbody tr th {\n",
       "        vertical-align: top;\n",
       "    }\n",
       "\n",
       "    .dataframe thead th {\n",
       "        text-align: right;\n",
       "    }\n",
       "</style>\n",
       "<table border=\"1\" class=\"dataframe\">\n",
       "  <thead>\n",
       "    <tr style=\"text-align: right;\">\n",
       "      <th></th>\n",
       "      <th>SalesInMillions</th>\n",
       "    </tr>\n",
       "  </thead>\n",
       "  <tbody>\n",
       "    <tr>\n",
       "      <td>0</td>\n",
       "      <td>1.936299</td>\n",
       "    </tr>\n",
       "    <tr>\n",
       "      <td>1</td>\n",
       "      <td>2.517155</td>\n",
       "    </tr>\n",
       "    <tr>\n",
       "      <td>2</td>\n",
       "      <td>3.523646</td>\n",
       "    </tr>\n",
       "    <tr>\n",
       "      <td>3</td>\n",
       "      <td>1.962767</td>\n",
       "    </tr>\n",
       "    <tr>\n",
       "      <td>4</td>\n",
       "      <td>1.883871</td>\n",
       "    </tr>\n",
       "  </tbody>\n",
       "</table>\n",
       "</div>"
      ],
      "text/plain": [
       "   SalesInMillions\n",
       "0         1.936299\n",
       "1         2.517155\n",
       "2         3.523646\n",
       "3         1.962767\n",
       "4         1.883871"
      ]
     },
     "execution_count": 32,
     "metadata": {},
     "output_type": "execute_result"
    }
   ],
   "source": [
    "sub2.head()"
   ]
  },
  {
   "cell_type": "code",
   "execution_count": 33,
   "metadata": {},
   "outputs": [
    {
     "data": {
      "text/html": [
       "<div>\n",
       "<style scoped>\n",
       "    .dataframe tbody tr th:only-of-type {\n",
       "        vertical-align: middle;\n",
       "    }\n",
       "\n",
       "    .dataframe tbody tr th {\n",
       "        vertical-align: top;\n",
       "    }\n",
       "\n",
       "    .dataframe thead th {\n",
       "        text-align: right;\n",
       "    }\n",
       "</style>\n",
       "<table border=\"1\" class=\"dataframe\">\n",
       "  <thead>\n",
       "    <tr style=\"text-align: right;\">\n",
       "      <th></th>\n",
       "      <th>SalesInMillions</th>\n",
       "    </tr>\n",
       "  </thead>\n",
       "  <tbody>\n",
       "    <tr>\n",
       "      <td>0</td>\n",
       "      <td>1.402619</td>\n",
       "    </tr>\n",
       "    <tr>\n",
       "      <td>1</td>\n",
       "      <td>2.203543</td>\n",
       "    </tr>\n",
       "    <tr>\n",
       "      <td>2</td>\n",
       "      <td>2.774559</td>\n",
       "    </tr>\n",
       "    <tr>\n",
       "      <td>3</td>\n",
       "      <td>1.693101</td>\n",
       "    </tr>\n",
       "    <tr>\n",
       "      <td>4</td>\n",
       "      <td>2.365861</td>\n",
       "    </tr>\n",
       "  </tbody>\n",
       "</table>\n",
       "</div>"
      ],
      "text/plain": [
       "   SalesInMillions\n",
       "0         1.402619\n",
       "1         2.203543\n",
       "2         2.774559\n",
       "3         1.693101\n",
       "4         2.365861"
      ]
     },
     "execution_count": 33,
     "metadata": {},
     "output_type": "execute_result"
    }
   ],
   "source": [
    "sub3.head()"
   ]
  },
  {
   "cell_type": "markdown",
   "metadata": {},
   "source": [
    "### Averaging"
   ]
  },
  {
   "cell_type": "code",
   "execution_count": 34,
   "metadata": {},
   "outputs": [],
   "source": [
    "ave = 0.8*sub1 + 0.2*sub3"
   ]
  },
  {
   "cell_type": "code",
   "execution_count": 35,
   "metadata": {},
   "outputs": [
    {
     "data": {
      "text/html": [
       "<div>\n",
       "<style scoped>\n",
       "    .dataframe tbody tr th:only-of-type {\n",
       "        vertical-align: middle;\n",
       "    }\n",
       "\n",
       "    .dataframe tbody tr th {\n",
       "        vertical-align: top;\n",
       "    }\n",
       "\n",
       "    .dataframe thead th {\n",
       "        text-align: right;\n",
       "    }\n",
       "</style>\n",
       "<table border=\"1\" class=\"dataframe\">\n",
       "  <thead>\n",
       "    <tr style=\"text-align: right;\">\n",
       "      <th></th>\n",
       "      <th>SalesInMillions</th>\n",
       "    </tr>\n",
       "  </thead>\n",
       "  <tbody>\n",
       "    <tr>\n",
       "      <td>0</td>\n",
       "      <td>1.657115</td>\n",
       "    </tr>\n",
       "    <tr>\n",
       "      <td>1</td>\n",
       "      <td>2.048153</td>\n",
       "    </tr>\n",
       "    <tr>\n",
       "      <td>2</td>\n",
       "      <td>3.235209</td>\n",
       "    </tr>\n",
       "    <tr>\n",
       "      <td>3</td>\n",
       "      <td>1.908206</td>\n",
       "    </tr>\n",
       "    <tr>\n",
       "      <td>4</td>\n",
       "      <td>2.113937</td>\n",
       "    </tr>\n",
       "  </tbody>\n",
       "</table>\n",
       "</div>"
      ],
      "text/plain": [
       "   SalesInMillions\n",
       "0         1.657115\n",
       "1         2.048153\n",
       "2         3.235209\n",
       "3         1.908206\n",
       "4         2.113937"
      ]
     },
     "execution_count": 35,
     "metadata": {},
     "output_type": "execute_result"
    }
   ],
   "source": [
    "ave.head()"
   ]
  },
  {
   "cell_type": "code",
   "execution_count": 36,
   "metadata": {},
   "outputs": [],
   "source": [
    "ave.to_csv('submission.csv', index=False)"
   ]
  },
  {
   "cell_type": "code",
   "execution_count": null,
   "metadata": {},
   "outputs": [],
   "source": []
  }
 ],
 "metadata": {
  "kernelspec": {
   "display_name": "Python 3",
   "language": "python",
   "name": "python3"
  },
  "language_info": {
   "codemirror_mode": {
    "name": "ipython",
    "version": 3
   },
   "file_extension": ".py",
   "mimetype": "text/x-python",
   "name": "python",
   "nbconvert_exporter": "python",
   "pygments_lexer": "ipython3",
   "version": "3.7.1"
  }
 },
 "nbformat": 4,
 "nbformat_minor": 2
}
